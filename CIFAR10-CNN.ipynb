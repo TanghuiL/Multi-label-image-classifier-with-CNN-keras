{
 "cells": [
  {
   "cell_type": "markdown",
   "metadata": {},
   "source": [
    "# CNN multi-class image classifier\n",
    "\n",
    "The example dataset is the CIFAR-10 dataset, which consists of 60000 small color images (32x32) in 10 classes with 6000 example each. The 10 classes are: airplane, automobile, bird, cat, deer, dog, frog, horse, ship, and truck. The classes are completely mutually exclusive. There is no overlap between automobiles and trucks. \"Automobile\" includes sedans, SUVs, things of that sort. \"Truck\" includes only big trucks. Neither includes pickup trucks.\n",
    "More information about the dataset can be found: \n",
    "https://www.cs.toronto.edu/~kriz/cifar.html\n",
    "\n",
    "Here, CNN is implemented using the Keras library. "
   ]
  },
  {
   "cell_type": "markdown",
   "metadata": {},
   "source": [
    "# Import libraries and modules "
   ]
  },
  {
   "cell_type": "code",
   "execution_count": 101,
   "metadata": {
    "collapsed": true
   },
   "outputs": [],
   "source": [
    "from __future__ import print_function\n",
    "\n",
    "import keras\n",
    "from keras.datasets import cifar10\n",
    "from keras.utils import np_utils\n",
    "from keras.models import Sequential\n",
    "#Core layers\n",
    "from keras.layers import Dense, Dropout, Activation, Flatten\n",
    "#CNN layers\n",
    "from keras.layers import Conv2D, MaxPooling2D\n",
    "from keras.layers import SeparableConv2D\n",
    "\n",
    "import numpy as np\n"
   ]
  },
  {
   "cell_type": "code",
   "execution_count": 102,
   "metadata": {
    "collapsed": true
   },
   "outputs": [],
   "source": [
    "#Setting up some parameters for the classifier to use later. \n",
    "batch_size = 64\n",
    "num_classes = 10\n",
    "epochs = 30"
   ]
  },
  {
   "cell_type": "markdown",
   "metadata": {},
   "source": [
    "\n",
    "# Data preparation"
   ]
  },
  {
   "cell_type": "code",
   "execution_count": 103,
   "metadata": {
    "scrolled": true
   },
   "outputs": [
    {
     "name": "stdout",
     "output_type": "stream",
     "text": [
      "(50000, 32, 32, 3)\n",
      "(10000, 32, 32, 3)\n"
     ]
    }
   ],
   "source": [
    "#Shuffle and split the dataset into train and test sets\n",
    "(x_train, y_train), (x_test, y_test) = cifar10.load_data()\n",
    "\n",
    "#Usually 2-D image data is stored as (m * pixel * pixel * RGB), \n",
    "#here m is the total number of examples\n",
    "print(x_train.shape)\n",
    "print(x_test.shape)\n",
    "\n",
    "#Assure the data is casted to the right datatype. \n",
    "x_train = x_train.astype('float32')\n",
    "x_test = x_test.astype('float32')\n",
    "\n",
    "#Feature normalization \n",
    "x_train /= 255\n",
    "x_test /= 255"
   ]
  },
  {
   "cell_type": "markdown",
   "metadata": {},
   "source": [
    "In RGB, the maximum value is 255. Usually normalization should be divided by mean, but in practice 255 seems working just fine. Andrew Ng also mentioned this in his Deep Learning course at Cousera. "
   ]
  },
  {
   "cell_type": "code",
   "execution_count": 104,
   "metadata": {},
   "outputs": [
    {
     "name": "stdout",
     "output_type": "stream",
     "text": [
      "(50000, 1)\n",
      "(10000, 1)\n"
     ]
    }
   ],
   "source": [
    "#Now check out how the images are labeled\n",
    "print(y_train.shape)\n",
    "print(y_test.shape)\n",
    "\n",
    "# convert class vectors to binary class matrices\n",
    "y_train = keras.utils.to_categorical(y_train, num_classes)\n",
    "y_test = keras.utils.to_categorical(y_test, num_classes)\n"
   ]
  },
  {
   "cell_type": "markdown",
   "metadata": {},
   "source": [
    "# Training the classifer "
   ]
  },
  {
   "cell_type": "code",
   "execution_count": 105,
   "metadata": {},
   "outputs": [
    {
     "name": "stdout",
     "output_type": "stream",
     "text": [
      "_________________________________________________________________\n",
      "Layer (type)                 Output Shape              Param #   \n",
      "=================================================================\n",
      "separable_conv2d_2 (Separabl (None, 32, 32, 32)        401       \n",
      "_________________________________________________________________\n",
      "conv2d_20 (Conv2D)           (None, 30, 30, 32)        9248      \n",
      "_________________________________________________________________\n",
      "max_pooling2d_7 (MaxPooling2 (None, 15, 15, 32)        0         \n",
      "_________________________________________________________________\n",
      "dropout_9 (Dropout)          (None, 15, 15, 32)        0         \n",
      "_________________________________________________________________\n",
      "conv2d_21 (Conv2D)           (None, 13, 13, 64)        18496     \n",
      "_________________________________________________________________\n",
      "max_pooling2d_8 (MaxPooling2 (None, 6, 6, 64)          0         \n",
      "_________________________________________________________________\n",
      "dropout_10 (Dropout)         (None, 6, 6, 64)          0         \n",
      "_________________________________________________________________\n",
      "conv2d_22 (Conv2D)           (None, 4, 4, 64)          36928     \n",
      "_________________________________________________________________\n",
      "max_pooling2d_9 (MaxPooling2 (None, 2, 2, 64)          0         \n",
      "_________________________________________________________________\n",
      "dropout_11 (Dropout)         (None, 2, 2, 64)          0         \n",
      "_________________________________________________________________\n",
      "flatten_3 (Flatten)          (None, 256)               0         \n",
      "_________________________________________________________________\n",
      "dense_5 (Dense)              (None, 512)               131584    \n",
      "_________________________________________________________________\n",
      "dropout_12 (Dropout)         (None, 512)               0         \n",
      "_________________________________________________________________\n",
      "dense_6 (Dense)              (None, 10)                5130      \n",
      "=================================================================\n",
      "Total params: 201,787\n",
      "Trainable params: 201,787\n",
      "Non-trainable params: 0\n",
      "_________________________________________________________________\n"
     ]
    },
    {
     "name": "stderr",
     "output_type": "stream",
     "text": [
      "/Applications/anaconda3/lib/python3.6/site-packages/ipykernel_launcher.py:11: UserWarning: Update your `Conv2D` call to the Keras 2 API: `Conv2D(32, (3, 3), activation=\"relu\")`\n",
      "  # This is added back by InteractiveShellApp.init_path()\n",
      "/Applications/anaconda3/lib/python3.6/site-packages/ipykernel_launcher.py:14: UserWarning: Update your `Conv2D` call to the Keras 2 API: `Conv2D(64, (3, 3), activation=\"relu\")`\n",
      "  \n",
      "/Applications/anaconda3/lib/python3.6/site-packages/ipykernel_launcher.py:17: UserWarning: Update your `Conv2D` call to the Keras 2 API: `Conv2D(64, (3, 3), activation=\"relu\")`\n"
     ]
    }
   ],
   "source": [
    "#Declare a sequential model\n",
    "model = Sequential()\n",
    "#CNN input layer \n",
    "model.add(SeparableConv2D(32, kernel_size =(3,3), \n",
    "                 activation='relu', \n",
    "                 depth_multiplier = 3,\n",
    "                 padding = 'same',\n",
    "                 input_shape=x_train.shape[1:]))\n",
    "\n",
    "#Add hidden layers to the model \n",
    "model.add(Conv2D(32,3,3, activation='relu'))\n",
    "model.add(MaxPooling2D(pool_size=(2,2)))\n",
    "model.add(Dropout(0.25))\n",
    "model.add(Conv2D(64,3,3, activation='relu'))\n",
    "model.add(MaxPooling2D(pool_size=(2,2)))\n",
    "model.add(Dropout(0.25))\n",
    "model.add(Conv2D(64,3,3, activation='relu'))\n",
    "model.add(MaxPooling2D(pool_size=(2,2)))\n",
    "model.add(Dropout(0.25))\n",
    "\n",
    "#Fully connected Dense layers \n",
    "model.add(Flatten())\n",
    "model.add(Dense(512, activation='relu'))\n",
    "model.add(Dropout(0.5))\n",
    "model.add(Dense(num_classes, activation='softmax'))\n",
    "\n",
    "model.summary()"
   ]
  },
  {
   "cell_type": "code",
   "execution_count": null,
   "metadata": {
    "collapsed": true
   },
   "outputs": [],
   "source": [
    "#Compile model\n",
    "model.compile(loss='categorical_crossentropy',\n",
    "             optimizer='adam',\n",
    "             metrics=['accuracy'])"
   ]
  },
  {
   "cell_type": "code",
   "execution_count": null,
   "metadata": {},
   "outputs": [
    {
     "name": "stdout",
     "output_type": "stream",
     "text": [
      "Train on 50000 samples, validate on 10000 samples\n",
      "Epoch 1/30\n",
      "50000/50000 [==============================] - 133s 3ms/step - loss: 1.7100 - acc: 0.3640 - val_loss: 1.3855 - val_acc: 0.5041\n",
      "Epoch 2/30\n",
      "50000/50000 [==============================] - 132s 3ms/step - loss: 1.3512 - acc: 0.5115 - val_loss: 1.1948 - val_acc: 0.5659\n",
      "Epoch 3/30\n",
      "50000/50000 [==============================] - 135s 3ms/step - loss: 1.2114 - acc: 0.5671 - val_loss: 1.0491 - val_acc: 0.6348\n",
      "Epoch 4/30\n",
      "50000/50000 [==============================] - 138s 3ms/step - loss: 1.1046 - acc: 0.6075 - val_loss: 0.9795 - val_acc: 0.6614\n",
      "Epoch 5/30\n",
      "50000/50000 [==============================] - 137s 3ms/step - loss: 1.0461 - acc: 0.6307 - val_loss: 0.8967 - val_acc: 0.6902\n",
      "Epoch 6/30\n",
      "50000/50000 [==============================] - 138s 3ms/step - loss: 0.9852 - acc: 0.6534 - val_loss: 0.8897 - val_acc: 0.6978\n",
      "Epoch 7/30\n",
      "50000/50000 [==============================] - 134s 3ms/step - loss: 0.9415 - acc: 0.6687 - val_loss: 0.8214 - val_acc: 0.7200\n",
      "Epoch 8/30\n",
      "50000/50000 [==============================] - 126s 3ms/step - loss: 0.9108 - acc: 0.6809 - val_loss: 0.7937 - val_acc: 0.7279\n",
      "Epoch 9/30\n",
      "50000/50000 [==============================] - 286s 6ms/step - loss: 0.8853 - acc: 0.6910 - val_loss: 0.7758 - val_acc: 0.7313\n",
      "Epoch 10/30\n",
      "50000/50000 [==============================] - 130s 3ms/step - loss: 0.8637 - acc: 0.6978 - val_loss: 0.7567 - val_acc: 0.7412\n",
      "Epoch 11/30\n",
      "50000/50000 [==============================] - 145s 3ms/step - loss: 0.8450 - acc: 0.7048 - val_loss: 0.7394 - val_acc: 0.7518\n",
      "Epoch 12/30\n",
      "50000/50000 [==============================] - 130s 3ms/step - loss: 0.8241 - acc: 0.7096 - val_loss: 0.7378 - val_acc: 0.7456\n",
      "Epoch 13/30\n",
      "50000/50000 [==============================] - 129s 3ms/step - loss: 0.8168 - acc: 0.7144 - val_loss: 0.7230 - val_acc: 0.7523\n",
      "Epoch 14/30\n",
      "50000/50000 [==============================] - 129s 3ms/step - loss: 0.8052 - acc: 0.7197 - val_loss: 0.7236 - val_acc: 0.7505\n",
      "Epoch 15/30\n",
      "50000/50000 [==============================] - 130s 3ms/step - loss: 0.7915 - acc: 0.7227 - val_loss: 0.6976 - val_acc: 0.7637\n",
      "Epoch 16/30\n",
      "50000/50000 [==============================] - 130s 3ms/step - loss: 0.7761 - acc: 0.7276 - val_loss: 0.7061 - val_acc: 0.7611\n",
      "Epoch 17/30\n",
      "50000/50000 [==============================] - 129s 3ms/step - loss: 0.7687 - acc: 0.7321 - val_loss: 0.7339 - val_acc: 0.7498\n",
      "Epoch 18/30\n",
      "50000/50000 [==============================] - 130s 3ms/step - loss: 0.7649 - acc: 0.7334 - val_loss: 0.6745 - val_acc: 0.7704\n",
      "Epoch 19/30\n",
      "50000/50000 [==============================] - 131s 3ms/step - loss: 0.7610 - acc: 0.7358 - val_loss: 0.7281 - val_acc: 0.7493\n",
      "Epoch 20/30\n",
      "50000/50000 [==============================] - 131s 3ms/step - loss: 0.7453 - acc: 0.7403 - val_loss: 0.6731 - val_acc: 0.7753\n",
      "Epoch 21/30\n",
      "50000/50000 [==============================] - 131s 3ms/step - loss: 0.7484 - acc: 0.7394 - val_loss: 0.7035 - val_acc: 0.7572\n",
      "Epoch 22/30\n",
      "50000/50000 [==============================] - 131s 3ms/step - loss: 0.7411 - acc: 0.7411 - val_loss: 0.6766 - val_acc: 0.7664\n",
      "Epoch 23/30\n",
      "50000/50000 [==============================] - 131s 3ms/step - loss: 0.7316 - acc: 0.7433 - val_loss: 0.6942 - val_acc: 0.7611\n",
      "Epoch 24/30\n",
      "50000/50000 [==============================] - 131s 3ms/step - loss: 0.7266 - acc: 0.7469 - val_loss: 0.6611 - val_acc: 0.7754\n",
      "Epoch 25/30\n",
      "50000/50000 [==============================] - 136s 3ms/step - loss: 0.7284 - acc: 0.7435 - val_loss: 0.6592 - val_acc: 0.7708\n",
      "Epoch 26/30\n",
      "50000/50000 [==============================] - 140s 3ms/step - loss: 0.7150 - acc: 0.7497 - val_loss: 0.6879 - val_acc: 0.7607\n",
      "Epoch 27/30\n",
      "50000/50000 [==============================] - 139s 3ms/step - loss: 0.7126 - acc: 0.7510 - val_loss: 0.6769 - val_acc: 0.7727\n",
      "Epoch 28/30\n",
      "50000/50000 [==============================] - 140s 3ms/step - loss: 0.7121 - acc: 0.7499 - val_loss: 0.6495 - val_acc: 0.7790\n",
      "Epoch 29/30\n",
      "50000/50000 [==============================] - 138s 3ms/step - loss: 0.7032 - acc: 0.7555 - val_loss: 0.6318 - val_acc: 0.7820\n",
      "Epoch 30/30\n",
      "21952/50000 [============>.................] - ETA: 1:13 - loss: 0.7015 - acc: 0.7562"
     ]
    }
   ],
   "source": [
    "#Training\n",
    "history = model.fit(x_train, y_train,\n",
    "                    batch_size=batch_size,\n",
    "                    epochs=epochs,\n",
    "                    verbose=1,\n",
    "                    validation_data=(x_test, y_test))\n",
    "score = model.evaluate(x_test, y_test, verbose=0)\n",
    "print('Test loss:', score[0])\n",
    "print('Test accuracy:', score[1])"
   ]
  },
  {
   "cell_type": "code",
   "execution_count": null,
   "metadata": {
    "collapsed": true
   },
   "outputs": [],
   "source": []
  }
 ],
 "metadata": {
  "kernelspec": {
   "display_name": "Python 3",
   "language": "python",
   "name": "python3"
  },
  "language_info": {
   "codemirror_mode": {
    "name": "ipython",
    "version": 3
   },
   "file_extension": ".py",
   "mimetype": "text/x-python",
   "name": "python",
   "nbconvert_exporter": "python",
   "pygments_lexer": "ipython3",
   "version": "3.6.3"
  }
 },
 "nbformat": 4,
 "nbformat_minor": 2
}
